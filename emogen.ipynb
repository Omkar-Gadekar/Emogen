{
  "cells": [
    {
      "cell_type": "code",
      "execution_count": 2,
      "metadata": {
        "id": "yudF5sZwHI08"
      },
      "outputs": [
        {
          "name": "stdout",
          "output_type": "stream",
          "text": [
            "\n"
          ]
        }
      ],
      "source": [
        "import numpy as np\n",
        "import matplotlib.pyplot as plt\n",
        "import seaborn as sb\n",
        "from PIL import Image\n",
        "\n",
        "from sklearn import metrics\n",
        "\n",
        "import cv2\n",
        "import numpy as np\n",
        "import os\n",
        "\n",
        "from glob import glob\n",
        "\n",
        "import tensorflow as tf\n",
        "from tensorflow import keras\n",
        "from keras import layers\n",
        "from keras.preprocessing.image import ImageDataGenerator\n",
        "\n",
        "import warnings\n",
        "warnings.filterwarnings('ignore')\n"
      ]
    },
    {
      "cell_type": "code",
      "execution_count": 6,
      "metadata": {
        "id": "cFnv4-5BJJyO"
      },
      "outputs": [
        {
          "name": "stdout",
          "output_type": "stream",
          "text": [
            "The data set has been extracted.\n"
          ]
        }
      ],
      "source": [
        "# Extracting the compressed dataset.\n",
        "from zipfile import ZipFile\n",
        "data_path = 'fer2013.zip'\n",
        "\n",
        "with ZipFile(data_path,'r') as zip:\n",
        "  zip.extractall()\n",
        "  print('The data set has been extracted.')\n"
      ]
    },
    {
      "cell_type": "code",
      "execution_count": 7,
      "metadata": {
        "id": "WIUrGD05JNWe"
      },
      "outputs": [
        {
          "data": {
            "text/plain": [
              "['angry', 'disgust', 'fear', 'happy', 'neutral', 'sad', 'surprise']"
            ]
          },
          "execution_count": 7,
          "metadata": {},
          "output_type": "execute_result"
        }
      ],
      "source": [
        "path = 'train'\n",
        "classes = os.listdir(path)\n",
        "classes\n"
      ]
    },
    {
      "cell_type": "code",
      "execution_count": 9,
      "metadata": {
        "id": "rR-QY_3xJPwm"
      },
      "outputs": [
        {
          "data": {
            "image/png": "[encoded data removed]",
            "text/plain": [
              "<Figure size 640x480 with 1 Axes>"
            ]
          },
          "metadata": {},
          "output_type": "display_data"
        }
      ],
      "source": [
        "count = []\n",
        "for cat in classes:\n",
        "\tcount.append(len(os.listdir(f'{path}/{cat}')))\n",
        "sb.barplot(x=classes,y=count)\n",
        "plt.show()\n"
      ]
    },
    {
      "cell_type": "code",
      "execution_count": 10,
      "metadata": {
        "id": "0ojK7dTeJhlS"
      },
      "outputs": [
        {
          "name": "stdout",
          "output_type": "stream",
          "text": [
            "Found 28709 images belonging to 7 classes.\n",
            "Found 7178 images belonging to 7 classes.\n"
          ]
        }
      ],
      "source": [
        "train_datagen = ImageDataGenerator(rescale=1./255)\n",
        "val_datagen = ImageDataGenerator(rescale=1./255)\n",
        "\n",
        "train_gen = train_datagen.flow_from_directory(\n",
        "\t\t'train',\n",
        "\t\ttarget_size=(48,48),\n",
        "\t\tbatch_size=64,\n",
        "\t\tcolor_mode=\"grayscale\",\n",
        "\t\tclass_mode='categorical')\n",
        "\n",
        "val_gen = val_datagen.flow_from_directory(\n",
        "\t\t'test',\n",
        "\t\ttarget_size=(48,48),\n",
        "\t\tbatch_size=64,\n",
        "\t\tcolor_mode=\"grayscale\",\n",
        "\t\tclass_mode='categorical')\n"
      ]
    },
    {
      "cell_type": "code",
      "execution_count": 11,
      "metadata": {
        "id": "5rcO8S7bJlXv"
      },
      "outputs": [],
      "source": [
        "emotions = list(train_gen.class_indices.keys())\n"
      ]
    },
    {
      "cell_type": "code",
      "execution_count": 12,
      "metadata": {
        "id": "r_84WSKLJnbC"
      },
      "outputs": [],
      "source": [
        "model = keras.models.Sequential([\n",
        "\t\t\t\t\t\t\t\t\tlayers.Conv2D(32,(3,3),activation='relu',input_shape=(48, 48, 1)),\n",
        "\t\t\t\t\t\t\t\t\tlayers.Conv2D(64,(3,3),activation='relu'),\n",
        "\t\t\t\t\t\t\t\t\tlayers.MaxPooling2D(2,2),\n",
        "\n",
        "\n",
        "\t\t\t\t\t\t\t\t\tlayers.Flatten(),\n",
        "\t\t\t\t\t\t\t\t\tlayers.Dense(64,activation='relu'),\n",
        "\t\t\t\t\t\t\t\t\tlayers.BatchNormalization(),\n",
        "\t\t\t\t\t\t\t\t\tlayers.Dense(32,activation='relu'),\n",
        "\t\t\t\t\t\t\t\t\tlayers.Dropout(0.3),\n",
        "\t\t\t\t\t\t\t\t\tlayers.BatchNormalization(),\n",
        "\t\t\t\t\t\t\t\t\tlayers.Dense(7, activation='softmax')\n",
        "])\n"
      ]
    },
    {
      "cell_type": "code",
      "execution_count": 13,
      "metadata": {
        "id": "KOOgZVgYJpyj"
      },
      "outputs": [],
      "source": [
        "model.compile(\n",
        "\toptimizer = 'adam',\n",
        "\tloss = 'categorical_crossentropy',\n",
        "\tmetrics=['accuracy']\n",
        ")\n"
      ]
    },
    {
      "cell_type": "code",
      "execution_count": 14,
      "metadata": {
        "id": "POYfBZ40Jqd7"
      },
      "outputs": [],
      "source": [
        "from keras.callbacks import EarlyStopping, ReduceLROnPlateau\n",
        "\n",
        "class myCallback(tf.keras.callbacks.Callback):\n",
        "  def on_epoch_end(self, epoch, logs={}):\n",
        "\t  if logs.get('val_accuracy') > 0.90:\n",
        "\t    print('\\n Validation accuracy has reached upto 90% so, stopping further training.')\n",
        "\t    self.model.stop_training = True\n",
        "\n",
        "es = EarlyStopping(patience=3, monitor='val_accuracy', restore_best_weights=True)\n",
        "lr = ReduceLROnPlateau(monitor = 'val_loss', patience = 2, factor=0.5, verbose=1)\n"
      ]
    },
    {
      "cell_type": "code",
      "execution_count": 29,
      "metadata": {
        "id": "e-hc_wOpJspx"
      },
      "outputs": [
        {
          "name": "stdout",
          "output_type": "stream",
          "text": [
            "Epoch 1/5\n",
            "449/449 [==============================] - 116s 259ms/step - loss: 1.2642 - accuracy: 0.5169 - val_loss: 1.8137 - val_accuracy: 0.4186 - lr: 0.0010\n",
            "Epoch 2/5\n",
            "449/449 [==============================] - 112s 250ms/step - loss: 1.1584 - accuracy: 0.5625 - val_loss: 1.4789 - val_accuracy: 0.4310 - lr: 0.0010\n",
            "Epoch 3/5\n",
            "449/449 [==============================] - 113s 252ms/step - loss: 1.0462 - accuracy: 0.6056 - val_loss: 1.5033 - val_accuracy: 0.4635 - lr: 0.0010\n",
            "Epoch 4/5\n",
            "449/449 [==============================] - ETA: 0s - loss: 0.9322 - accuracy: 0.6537\n",
            "Epoch 4: ReduceLROnPlateau reducing learning rate to 0.0005000000237487257.\n",
            "449/449 [==============================] - 114s 253ms/step - loss: 0.9322 - accuracy: 0.6537 - val_loss: 1.4997 - val_accuracy: 0.5003 - lr: 0.0010\n",
            "Epoch 5/5\n",
            "449/449 [==============================] - 113s 253ms/step - loss: 0.7251 - accuracy: 0.7385 - val_loss: 1.4792 - val_accuracy: 0.5153 - lr: 5.0000e-04\n",
            "Model has been saved.\n"
          ]
        }
      ],
      "source": [
        "history = model.fit(train_gen, \n",
        "                    validation_data = val_gen, \n",
        "                    epochs = 5, \n",
        "                    verbose = 1, \n",
        "                    callbacks = [es, lr, myCallback()])\n",
        "\n",
        "# Save the trained model to a file\n",
        "model.save('emotion_model.h5')  # Provide the desired file path for saving the model\n",
        "print('Model has been saved.')\n"
      ]
    },
    {
      "cell_type": "code",
      "execution_count": 16,
      "metadata": {
        "id": "BGRwwGxdJyeO"
      },
      "outputs": [],
      "source": [
        "def plot_image(img, emoj):\n",
        "\twmin = 256\n",
        "\thmin = 256\n",
        "\n",
        "\temoj = cv2.resize(emoj, (wmin, hmin))\n",
        "\timg = cv2.resize(img, (wmin, hmin))\n",
        "\tcv2.imshow('Images', cv2.hconcat([img, emoj]))\n"
      ]
    },
    {
      "cell_type": "code",
      "execution_count": 36,
      "metadata": {
        "id": "DOik_hnrJ1wR"
      },
      "outputs": [],
      "source": [
        "import cv2\n",
        "import numpy as np\n",
        "\n",
        "face_cascade = cv2.CascadeClassifier('haarcascade_frontalface_default.xml')\n",
        "\n",
        "# Load the pre-trained model and classes\n",
        "model = keras.models.load_model('emotion_model.h5')  # Provide the path to your pre-trained model file\n",
        "classes = emotions  # Assuming 'emotions' variable contains the list of emotion classes\n",
        "\n",
        "# Assuming 'plot_image' function is already defined\n",
        "def plot_image(img, emoj):\n",
        "    wmin = 256\n",
        "    hmin = 256\n",
        "    emoj = cv2.resize(emoj, (wmin, hmin))\n",
        "    img = cv2.resize(img, (wmin, hmin))\n",
        "    cv2.imshow('Images', cv2.hconcat([img, emoj]))\n",
        "\n",
        "# Assuming 'train_gen' is your training data generator\n",
        "for img_path in glob('path_to_your_images_directory/*.jpg'):  # Provide the path to the directory containing your images\n",
        "    img = cv2.imread(img_path)\n",
        "    gray = cv2.cvtColor(img, cv2.COLOR_BGR2GRAY)\n",
        "    faces = face_cascade.detectMultiScale(gray)\n",
        "    \n",
        "    for (x, y, w, h) in faces:\n",
        "        gray_face = gray[y:y + h, x:x + w]\n",
        "        gray_face = cv2.resize(gray_face, (48, 48))\n",
        "        gray_face = np.expand_dims(gray_face, axis=-1)\n",
        "        gray_face = np.expand_dims(gray_face, axis=0)\n",
        "\n",
        "        pred = model.predict(gray_face)\n",
        "        idx = pred.argmax(axis=-1)[0]\n",
        "\n",
        "        emoj = cv2.imread(f'emojis/{classes[idx]}.jpg')  # Assuming emoji images are stored in the 'emojis' directory\n",
        "\n",
        "        plot_image(img, emoj)\n",
        "\n",
        "        if cv2.waitKey(1) & 0xFF == ord('q'):\n",
        "            break\n",
        "\n",
        "cv2.destroyAllWindows()\n"
      ]
    }
  ],
  "metadata": {
    "colab": {
      "provenance": []
    },
    "kernelspec": {
      "display_name": "Python 3",
      "name": "python3"
    },
    "language_info": {
      "codemirror_mode": {
        "name": "ipython",
        "version": 3
      },
      "file_extension": ".py",
      "mimetype": "text/x-python",
      "name": "python",
      "nbconvert_exporter": "python",
      "pygments_lexer": "ipython3",
      "version": "3.10.13"
    }
  },
  "nbformat": 4,
  "nbformat_minor": 0
}
